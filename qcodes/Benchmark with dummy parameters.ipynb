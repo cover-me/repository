{
 "cells": [
  {
   "cell_type": "code",
   "execution_count": 1,
   "id": "0e083412-b76c-436e-af7e-5b390f134fbf",
   "metadata": {},
   "outputs": [
    {
     "name": "stdout",
     "output_type": "stream",
     "text": [
      "qcodes: 0.46.0\n",
      "qcodes_contrib_drivers: 0.22.0\n",
      "plottr: 0.13.0\n",
      "python: 3.12.3 | packaged by conda-forge | (main, Apr 15 2024, 18:20:11) [MSC v.1938 64 bit (AMD64)]\n",
      "matplotlib: 3.8.4\n",
      "numpy: 1.26.4\n",
      "scipy: 1.14.0\n",
      "pandas: 2.2.2\n"
     ]
    }
   ],
   "source": [
    "import qcodes as qc\n",
    "from qcodes.dataset.sqlite.database import initialise_or_create_database_at\n",
    "import IPython.lib.backgroundjobs as bg\n",
    "from plottr.apps import inspectr\n",
    "from qcodes.instrument.parameter import Parameter\n",
    "from qc_measure_20240712 import *\n",
    "print_versions()"
   ]
  },
  {
   "cell_type": "code",
   "execution_count": 2,
   "id": "177558b7-811b-446f-8ce9-00a30918f90d",
   "metadata": {},
   "outputs": [
    {
     "name": "stdout",
     "output_type": "stream",
     "text": [
      "Logging hadn't been started.\n",
      "Activating auto-logging. Current session state plus future input saved.\n",
      "Filename       : C:\\Users\\Measurement\\.qcodes\\logs\\command_history.log\n",
      "Mode           : append\n",
      "Output logging : True\n",
      "Raw input log  : False\n",
      "Timestamping   : True\n",
      "State          : active\n",
      "Qcodes Logfile : C:\\Users\\Measurement\\.qcodes\\logs\\240713-6048-qcodes.log\n"
     ]
    }
   ],
   "source": [
    "# Create a new db file name for each cooldown.\n",
    "db_path = 'test 20240707-XL105 20221222-InAs2DEGJJ15 username.db'\n",
    "\n",
    "qc.logger.start_all_logging()\n",
    "initialise_or_create_database_at(db_path)\n",
    "\n",
    "station = qc.Station()\n",
    "\n",
    "# Open Plottr\n",
    "# jobs = bg.BackgroundJobManager()\n",
    "# jobs.new(inspectr.main, db_path)"
   ]
  },
  {
   "cell_type": "code",
   "execution_count": 3,
   "id": "79d8b2b4-a57f-4136-a053-d55ac0b8b96b",
   "metadata": {},
   "outputs": [
    {
     "name": "stdout",
     "output_type": "stream",
     "text": [
      "Connected to: QDevil QDAC-II (serial:78, firmware:7-0.17.5) in 0.14s\n",
      "Connected to: Keysight Technologies 34461A (serial:MY60060848, firmware:A.03.03-03.15-03.03-00.52-04-03) in 0.16s\n"
     ]
    }
   ],
   "source": [
    "from qcodes_contrib_drivers.drivers.QDevil import QDAC2\n",
    "# qdac.close()\n",
    "qdac = QDAC2.QDac2('QDAC',  address= 'COM4')\n",
    "\n",
    "from qcodes.instrument_drivers.Keysight.Keysight_34461A_submodules import Keysight_34461A\n",
    "# dmm.close()\n",
    "dmm =  Keysight_34461A('Keysight_34461A', 'USB0::0x2A8D::0x1301::MY60060848::INSTR')"
   ]
  },
  {
   "cell_type": "code",
   "execution_count": 4,
   "id": "44943768-001c-4ea5-92c3-0727dffa0d53",
   "metadata": {},
   "outputs": [],
   "source": [
    "def get_V_measure():\n",
    "    return dmm.volt()\n",
    "\n",
    "V_measure = Parameter('V_measure', unit='V', label='Vmeas', \n",
    "                                 get_cmd=get_V_measure, set_cmd=None)\n",
    "\n",
    "\n",
    "Dummy_x = DummyParameter(name='dummy_x',unit='')\n",
    "\n",
    "Dummy_y = DummyParameter(name='dummy_y',unit='')\n",
    "\n",
    "Vg = qdac.ch01.dc_constant_V"
   ]
  },
  {
   "cell_type": "code",
   "execution_count": 5,
   "id": "5d430908-1227-487b-ba84-9f0fe2ed7832",
   "metadata": {},
   "outputs": [],
   "source": [
    "Ibias_fast = DummyParameter(name='Ibias_fast', unit='uA')"
   ]
  },
  {
   "cell_type": "markdown",
   "id": "4ee93e6f-11d3-46f7-9175-6391a8c7ae64",
   "metadata": {},
   "source": [
    "# Test "
   ]
  },
  {
   "cell_type": "code",
   "execution_count": 16,
   "id": "39ea9f58-298b-4474-a941-d90ca0b9dd5b",
   "metadata": {},
   "outputs": [
    {
     "name": "stdout",
     "output_type": "stream",
     "text": [
      "Test: original code\n",
      "Starting experimental run with id: 137. \n"
     ]
    },
    {
     "name": "stderr",
     "output_type": "stream",
     "text": [
      "                                                                                                                       \r"
     ]
    },
    {
     "name": "stdout",
     "output_type": "stream",
     "text": [
      "Total: 6.090047121047974 s. Each line: 5.08890700340271 s.\n",
      "DAT and SET file saved: DAT\\Ibias.left-12-13-a.137\n"
     ]
    }
   ],
   "source": [
    "class QMeasure_test(QMeasure):\n",
    "\n",
    "    def to_time_str(self, t0,t1,t2,t3):\n",
    "        return f'Total: {t3-t0} s. Each line: {t2-t1} s.'\n",
    "    \n",
    "    def _scan1d(self, datasaver, list_x, y):\n",
    "        para_x = self.scan_para['x']['parameter']\n",
    "        delay_x = self.scan_para['x']['delay']\n",
    "        para_y = self.scan_para['y']['parameter']\n",
    "        \n",
    "        for x in self.tqdm_x(list_x):\n",
    "            para_x(x)\n",
    "            time.sleep(delay_x)\n",
    "            vals = self._take_data()\n",
    "            rslt = [(para_x, x), (para_y, y)] + vals\n",
    "            datasaver.add_result(*rslt)\n",
    "    \n",
    "            if self.is_fwd_now or self.scan_dim==1:\n",
    "                self.qclient.add_data([i[1] for i in rslt])\n",
    "                self.qclient.update_plot()\n",
    "\n",
    "\n",
    "qm = QMeasure_test(exp_name='Ibias',sample_name='left-12-13-a',export_dat=True, mute_qclient=False)\n",
    "qm.set_parameters_to_aquire(para_list=[Ibias_fast], parallel=True)\n",
    "qm.set_parameters_in_measurement_name(para_list=[V_measure, dmm.volt])\n",
    "\n",
    "qm.set_scan_parameter('x', para=Dummy_x, start=0, stop=1, points=10000, delay=0)\n",
    "# qm.set_scan_parameter('y', para=None, start=None, stop=None, points=None, delay=0)\n",
    "\n",
    "print('Test: original code')\n",
    "qm.scan2d(bwd=False)"
   ]
  },
  {
   "cell_type": "code",
   "execution_count": 18,
   "id": "97c54654-69df-4685-aa5b-1bd81090b71a",
   "metadata": {},
   "outputs": [
    {
     "name": "stdout",
     "output_type": "stream",
     "text": [
      "Test: original code without parallel\n",
      "Starting experimental run with id: 139. \n"
     ]
    },
    {
     "name": "stderr",
     "output_type": "stream",
     "text": [
      "                                                                                                                       \r"
     ]
    },
    {
     "name": "stdout",
     "output_type": "stream",
     "text": [
      "Total: 2.482361316680908 s. Each line: 1.4816839694976807 s.\n",
      "DAT and SET file saved: DAT\\Ibias.left-12-13-a.139\n"
     ]
    }
   ],
   "source": [
    "class QMeasure_test(QMeasure):\n",
    "\n",
    "    def to_time_str(self, t0,t1,t2,t3):\n",
    "        return f'Total: {t3-t0} s. Each line: {t2-t1} s.'\n",
    "    \n",
    "    def _scan1d(self, datasaver, list_x, y):\n",
    "        para_x = self.scan_para['x']['parameter']\n",
    "        delay_x = self.scan_para['x']['delay']\n",
    "        para_y = self.scan_para['y']['parameter']\n",
    "        \n",
    "        for x in self.tqdm_x(list_x):\n",
    "            para_x(x)\n",
    "            time.sleep(delay_x)\n",
    "            vals = self._take_data()\n",
    "            rslt = [(para_x, x), (para_y, y)] + vals\n",
    "            datasaver.add_result(*rslt)\n",
    "    \n",
    "            if self.is_fwd_now or self.scan_dim==1:\n",
    "                self.qclient.add_data([i[1] for i in rslt])\n",
    "                self.qclient.update_plot()\n",
    "\n",
    "\n",
    "qm = QMeasure_test(exp_name='Ibias',sample_name='left-12-13-a',export_dat=True, mute_qclient=False)\n",
    "qm.set_parameters_to_aquire(para_list=[Ibias_fast], parallel=False)\n",
    "qm.set_parameters_in_measurement_name(para_list=[V_measure, dmm.volt])\n",
    "\n",
    "qm.set_scan_parameter('x', para=Dummy_x, start=0, stop=1, points=10000, delay=0)\n",
    "# qm.set_scan_parameter('y', para=None, start=None, stop=None, points=None, delay=0)\n",
    "\n",
    "print('Test: original code without parallel')\n",
    "qm.scan2d(bwd=False)"
   ]
  },
  {
   "cell_type": "code",
   "execution_count": 24,
   "id": "6fe8c828-2d69-44d5-b9a2-40ae3e6af0b9",
   "metadata": {},
   "outputs": [
    {
     "name": "stdout",
     "output_type": "stream",
     "text": [
      "Test: original code without parallel, without qclient\n",
      "Starting experimental run with id: 145. \n"
     ]
    },
    {
     "name": "stderr",
     "output_type": "stream",
     "text": [
      "                                                                                                                       \r"
     ]
    },
    {
     "name": "stdout",
     "output_type": "stream",
     "text": [
      "Total: 2.4096851348876953 s. Each line: 1.4081535339355469 s.\n",
      "DAT and SET file saved: DAT\\Ibias.left-12-13-a.145\n"
     ]
    }
   ],
   "source": [
    "class QMeasure_test(QMeasure):\n",
    "\n",
    "    def to_time_str(self, t0,t1,t2,t3):\n",
    "        return f'Total: {t3-t0} s. Each line: {t2-t1} s.'\n",
    "    \n",
    "    def _scan1d(self, datasaver, list_x, y):\n",
    "        para_x = self.scan_para['x']['parameter']\n",
    "        delay_x = self.scan_para['x']['delay']\n",
    "        para_y = self.scan_para['y']['parameter']\n",
    "        \n",
    "        for x in self.tqdm_x(list_x):\n",
    "            para_x(x)\n",
    "            time.sleep(delay_x)\n",
    "            vals = self._take_data()\n",
    "            rslt = [(para_x, x), (para_y, y)] + vals\n",
    "            datasaver.add_result(*rslt)\n",
    "    \n",
    "            # if self.is_fwd_now or self.scan_dim==1:\n",
    "            #     self.qclient.add_data([i[1] for i in rslt])\n",
    "            #     self.qclient.update_plot()\n",
    "\n",
    "\n",
    "qm = QMeasure_test(exp_name='Ibias',sample_name='left-12-13-a',export_dat=True, mute_qclient=False)\n",
    "qm.set_parameters_to_aquire(para_list=[Ibias_fast], parallel=False)\n",
    "qm.set_parameters_in_measurement_name(para_list=[V_measure, dmm.volt])\n",
    "\n",
    "qm.set_scan_parameter('x', para=Dummy_x, start=0, stop=1, points=10000, delay=0)\n",
    "# qm.set_scan_parameter('y', para=None, start=None, stop=None, points=None, delay=0)\n",
    "\n",
    "print('Test: original code without parallel, without qclient')\n",
    "qm.scan2d(bwd=False)"
   ]
  },
  {
   "cell_type": "code",
   "execution_count": 25,
   "id": "55ba0892-7f53-4b11-8dc9-766340bea079",
   "metadata": {},
   "outputs": [
    {
     "name": "stdout",
     "output_type": "stream",
     "text": [
      "Test: original code without parallel, without qclient, without datasaver.add_result()\n",
      "Starting experimental run with id: 146. \n"
     ]
    },
    {
     "name": "stderr",
     "output_type": "stream",
     "text": [
      "                                                                                                                       "
     ]
    },
    {
     "name": "stdout",
     "output_type": "stream",
     "text": [
      "Total: 1.53621506690979 s. Each line: 0.535008430480957 s.\n",
      "DAT and SET file saved: DAT\\Ibias.left-12-13-a.146\n"
     ]
    },
    {
     "name": "stderr",
     "output_type": "stream",
     "text": [
      "\r"
     ]
    }
   ],
   "source": [
    "class QMeasure_test(QMeasure):\n",
    "\n",
    "    def to_time_str(self, t0,t1,t2,t3):\n",
    "        return f'Total: {t3-t0} s. Each line: {t2-t1} s.'\n",
    "    \n",
    "    def _scan1d(self, datasaver, list_x, y):\n",
    "        para_x = self.scan_para['x']['parameter']\n",
    "        delay_x = self.scan_para['x']['delay']\n",
    "        para_y = self.scan_para['y']['parameter']\n",
    "        \n",
    "        for x in self.tqdm_x(list_x):\n",
    "            para_x(x)\n",
    "            time.sleep(delay_x)\n",
    "            vals = self._take_data()\n",
    "            rslt = [(para_x, x), (para_y, y)] + vals\n",
    "            # datasaver.add_result(*rslt)\n",
    "    \n",
    "            # if self.is_fwd_now or self.scan_dim==1:\n",
    "            #     self.qclient.add_data([i[1] for i in rslt])\n",
    "            #     self.qclient.update_plot()\n",
    "\n",
    "\n",
    "qm = QMeasure_test(exp_name='Ibias',sample_name='left-12-13-a',export_dat=True, mute_qclient=False)\n",
    "qm.set_parameters_to_aquire(para_list=[Ibias_fast], parallel=False)\n",
    "qm.set_parameters_in_measurement_name(para_list=[V_measure, dmm.volt])\n",
    "\n",
    "qm.set_scan_parameter('x', para=Dummy_x, start=0, stop=1, points=10000, delay=0)\n",
    "# qm.set_scan_parameter('y', para=None, start=None, stop=None, points=None, delay=0)\n",
    "\n",
    "print('Test: original code without parallel, without qclient, without datasaver.add_result()')\n",
    "qm.scan2d(bwd=False)"
   ]
  },
  {
   "cell_type": "code",
   "execution_count": 26,
   "id": "08695cee-cdb3-435d-8362-0d3e7dbd0b3d",
   "metadata": {},
   "outputs": [
    {
     "name": "stdout",
     "output_type": "stream",
     "text": [
      "Test: original code without parallel, without qclient, without datasaver.add_result(), without tqdm\n",
      "Starting experimental run with id: 147. \n",
      "Total: 1.455249309539795 s. Each line: 0.4547867774963379 s.\n",
      "DAT and SET file saved: DAT\\Ibias.left-12-13-a.147\n"
     ]
    }
   ],
   "source": [
    "class QMeasure_test(QMeasure):\n",
    "\n",
    "    def to_time_str(self, t0,t1,t2,t3):\n",
    "        return f'Total: {t3-t0} s. Each line: {t2-t1} s.'\n",
    "    \n",
    "    def _scan1d(self, datasaver, list_x, y):\n",
    "        para_x = self.scan_para['x']['parameter']\n",
    "        delay_x = self.scan_para['x']['delay']\n",
    "        para_y = self.scan_para['y']['parameter']\n",
    "        \n",
    "        for x in list_x:\n",
    "            para_x(x)\n",
    "            time.sleep(delay_x)\n",
    "            vals = self._take_data()\n",
    "            rslt = [(para_x, x), (para_y, y)] + vals\n",
    "            # datasaver.add_result(*rslt)\n",
    "    \n",
    "            # if self.is_fwd_now or self.scan_dim==1:\n",
    "            #     self.qclient.add_data([i[1] for i in rslt])\n",
    "            #     self.qclient.update_plot()\n",
    "\n",
    "\n",
    "qm = QMeasure_test(exp_name='Ibias',sample_name='left-12-13-a',export_dat=True, mute_qclient=False)\n",
    "qm.set_parameters_to_aquire(para_list=[Ibias_fast], parallel=False)\n",
    "qm.set_parameters_in_measurement_name(para_list=[V_measure, dmm.volt])\n",
    "\n",
    "qm.set_scan_parameter('x', para=Dummy_x, start=0, stop=1, points=10000, delay=0)\n",
    "# qm.set_scan_parameter('y', para=None, start=None, stop=None, points=None, delay=0)\n",
    "\n",
    "print('Test: original code without parallel, without qclient, without datasaver.add_result(), without tqdm')\n",
    "qm.scan2d(bwd=False)"
   ]
  },
  {
   "cell_type": "code",
   "execution_count": 27,
   "id": "57f1bc27-fb26-4173-abb1-968442eb0860",
   "metadata": {},
   "outputs": [
    {
     "name": "stdout",
     "output_type": "stream",
     "text": [
      "Test: original code without parallel, without qclient, without datasaver.add_result(), without tqdm, sleep 0.001\n",
      "Starting experimental run with id: 148. \n",
      "Total: 19.591214179992676 s. Each line: 18.590445280075073 s.\n",
      "DAT and SET file saved: DAT\\Ibias.left-12-13-a.148\n"
     ]
    }
   ],
   "source": [
    "class QMeasure_test(QMeasure):\n",
    "\n",
    "    def to_time_str(self, t0,t1,t2,t3):\n",
    "        return f'Total: {t3-t0} s. Each line: {t2-t1} s.'\n",
    "    \n",
    "    def _scan1d(self, datasaver, list_x, y):\n",
    "        para_x = self.scan_para['x']['parameter']\n",
    "        delay_x = self.scan_para['x']['delay']\n",
    "        para_y = self.scan_para['y']['parameter']\n",
    "        \n",
    "        for x in list_x:\n",
    "            para_x(x)\n",
    "            time.sleep(delay_x)\n",
    "            vals = self._take_data()\n",
    "            rslt = [(para_x, x), (para_y, y)] + vals\n",
    "            # datasaver.add_result(*rslt)\n",
    "    \n",
    "            # if self.is_fwd_now or self.scan_dim==1:\n",
    "            #     self.qclient.add_data([i[1] for i in rslt])\n",
    "            #     self.qclient.update_plot()\n",
    "\n",
    "\n",
    "qm = QMeasure_test(exp_name='Ibias',sample_name='left-12-13-a',export_dat=True, mute_qclient=False)\n",
    "qm.set_parameters_to_aquire(para_list=[Ibias_fast], parallel=False)\n",
    "qm.set_parameters_in_measurement_name(para_list=[V_measure, dmm.volt])\n",
    "\n",
    "qm.set_scan_parameter('x', para=Dummy_x, start=0, stop=1, points=10000, delay=0.001)\n",
    "# qm.set_scan_parameter('y', para=None, start=None, stop=None, points=None, delay=0)\n",
    "\n",
    "print('Test: original code without parallel, without qclient, without datasaver.add_result(), without tqdm, sleep 0.001')\n",
    "qm.scan2d(bwd=False)"
   ]
  },
  {
   "cell_type": "code",
   "execution_count": 28,
   "id": "96155f50-46f6-4dc0-b20c-4796c0c186ee",
   "metadata": {},
   "outputs": [
    {
     "name": "stdout",
     "output_type": "stream",
     "text": [
      "23.7 μs ± 380 ns per loop (mean ± std. dev. of 7 runs, 10,000 loops each)\n"
     ]
    }
   ],
   "source": [
    "%timeit Ibias_fast(0)"
   ]
  },
  {
   "cell_type": "code",
   "execution_count": 29,
   "id": "02cc89f8-71d7-4261-8aa8-387353c3ee16",
   "metadata": {},
   "outputs": [
    {
     "name": "stdout",
     "output_type": "stream",
     "text": [
      "18.9 μs ± 381 ns per loop (mean ± std. dev. of 7 runs, 10,000 loops each)\n"
     ]
    }
   ],
   "source": [
    "%timeit Ibias_fast()"
   ]
  },
  {
   "cell_type": "code",
   "execution_count": 30,
   "id": "2ce76d42-ea65-4ddd-8654-8f77dc3cc7b8",
   "metadata": {},
   "outputs": [
    {
     "name": "stdout",
     "output_type": "stream",
     "text": [
      "21.6 μs ± 498 ns per loop (mean ± std. dev. of 7 runs, 10,000 loops each)\n"
     ]
    }
   ],
   "source": [
    "%timeit qm._take_data()"
   ]
  },
  {
   "cell_type": "code",
   "execution_count": null,
   "id": "58211a0e-7a72-4fd8-b997-f26862d6949d",
   "metadata": {},
   "outputs": [],
   "source": []
  }
 ],
 "metadata": {
  "kernelspec": {
   "display_name": "Python 3 (ipykernel)",
   "language": "python",
   "name": "python3"
  },
  "language_info": {
   "codemirror_mode": {
    "name": "ipython",
    "version": 3
   },
   "file_extension": ".py",
   "mimetype": "text/x-python",
   "name": "python",
   "nbconvert_exporter": "python",
   "pygments_lexer": "ipython3",
   "version": "3.12.3"
  }
 },
 "nbformat": 4,
 "nbformat_minor": 5
}
