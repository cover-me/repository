{
 "cells": [
  {
   "cell_type": "markdown",
   "id": "b2253bfb",
   "metadata": {},
   "source": [
    "# Initialize qcodes"
   ]
  },
  {
   "cell_type": "code",
   "execution_count": 1,
   "id": "2d587ad5",
   "metadata": {},
   "outputs": [
    {
     "name": "stdout",
     "output_type": "stream",
     "text": [
      "qcodes: 0.46.0\n",
      "qcodes_contrib_drivers: 0.22.0\n",
      "plottr: 0.13.0\n",
      "python: 3.12.3 | packaged by conda-forge | (main, Apr 15 2024, 18:20:11) [MSC v.1938 64 bit (AMD64)]\n",
      "matplotlib: 3.8.4\n",
      "numpy: 1.26.4\n",
      "scipy: 1.14.0\n"
     ]
    }
   ],
   "source": [
    "import qcodes as qc\n",
    "from qcodes.dataset.sqlite.database import initialise_or_create_database_at\n",
    "import IPython.lib.backgroundjobs as bg\n",
    "from plottr.apps import inspectr\n",
    "from qcodes.instrument.parameter import Parameter\n",
    "from qc_measure_20240711 import *\n",
    "print_versions()"
   ]
  },
  {
   "cell_type": "markdown",
   "id": "01c65820",
   "metadata": {},
   "source": [
    "Update db_path here:"
   ]
  },
  {
   "cell_type": "code",
   "execution_count": 2,
   "id": "70cf282c",
   "metadata": {},
   "outputs": [
    {
     "name": "stdout",
     "output_type": "stream",
     "text": [
      "Logging hadn't been started.\n",
      "Activating auto-logging. Current session state plus future input saved.\n",
      "Filename       : C:\\Users\\Measurement\\.qcodes\\logs\\command_history.log\n",
      "Mode           : append\n",
      "Output logging : True\n",
      "Raw input log  : False\n",
      "Timestamping   : True\n",
      "State          : active\n",
      "Qcodes Logfile : C:\\Users\\Measurement\\.qcodes\\logs\\240712-11196-qcodes.log\n"
     ]
    }
   ],
   "source": [
    "# Create a new db file name for each cooldown.\n",
    "db_path = 'test 20240707-XL105 20221222-InAs2DEGJJ15 username.db'\n",
    "\n",
    "qc.logger.start_all_logging()\n",
    "initialise_or_create_database_at(db_path)\n",
    "\n",
    "station = qc.Station()\n",
    "\n",
    "# Open Plottr\n",
    "# jobs = bg.BackgroundJobManager()\n",
    "# jobs.new(inspectr.main, db_path)"
   ]
  },
  {
   "cell_type": "markdown",
   "id": "a7cf9b5c",
   "metadata": {},
   "source": [
    "# Load instruments"
   ]
  },
  {
   "cell_type": "code",
   "execution_count": 3,
   "id": "b9352be6",
   "metadata": {},
   "outputs": [
    {
     "name": "stdout",
     "output_type": "stream",
     "text": [
      "Connected to: QDevil QDAC-II (serial:78, firmware:7-0.17.5) in 0.14s\n",
      "Connected to: Keysight Technologies 34461A (serial:MY60060848, firmware:A.03.03-03.15-03.03-00.52-04-03) in 0.16s\n"
     ]
    }
   ],
   "source": [
    "from qcodes_contrib_drivers.drivers.QDevil import QDAC2\n",
    "# qdac.close()\n",
    "qdac = QDAC2.QDac2('QDAC',  address= 'COM4')\n",
    "\n",
    "from qcodes.instrument_drivers.Keysight.Keysight_34461A_submodules import Keysight_34461A\n",
    "# dmm.close()\n",
    "dmm =  Keysight_34461A('Keysight_34461A', 'USB0::0x2A8D::0x1301::MY60060848::INSTR')"
   ]
  },
  {
   "cell_type": "markdown",
   "id": "1defe3be",
   "metadata": {},
   "source": [
    "# Configure Parameters and station"
   ]
  },
  {
   "cell_type": "code",
   "execution_count": 4,
   "id": "c1993691",
   "metadata": {},
   "outputs": [],
   "source": [
    "def get_V_measure():\n",
    "    return dmm.volt()\n",
    "\n",
    "V_measure = Parameter('V_measure', unit='V', label='Vmeas', \n",
    "                                 get_cmd=get_V_measure, set_cmd=None)\n",
    "\n",
    "\n",
    "Dummy_x = DummyParameter(name='dummy_x',unit='')\n",
    "\n",
    "Dummy_y = DummyParameter(name='dummy_y',unit='')\n",
    "\n",
    "Vg = qdac.ch01.dc_constant_V"
   ]
  },
  {
   "cell_type": "code",
   "execution_count": 5,
   "id": "cc8fb4d4-64f5-4dcf-a259-c0cf363b98b3",
   "metadata": {},
   "outputs": [
    {
     "name": "stdout",
     "output_type": "stream",
     "text": [
      "<Keysight_34461A: Keysight_34461A>\n",
      "V_measure\n",
      "QDAC_ch01_dc_constant_V\n"
     ]
    }
   ],
   "source": [
    "# First remove all components\n",
    "st_components = list(station.components.keys())\n",
    "for i in st_components:\n",
    "    station.remove_component(i)\n",
    "\n",
    "# Add components\n",
    "for i in [dmm, V_measure, Vg]:\n",
    "    print(i)\n",
    "    station.add_component(i)"
   ]
  },
  {
   "cell_type": "markdown",
   "id": "9a48b570",
   "metadata": {},
   "source": [
    "# Begin scans"
   ]
  },
  {
   "cell_type": "markdown",
   "id": "3778e88c",
   "metadata": {},
   "source": [
    "## 1d"
   ]
  },
  {
   "cell_type": "code",
   "execution_count": 6,
   "id": "e70e8931",
   "metadata": {},
   "outputs": [
    {
     "name": "stdout",
     "output_type": "stream",
     "text": [
      "Starting experimental run with id: 9. \n",
      "Starting experimental run with id: 10. \n"
     ]
    },
    {
     "name": "stderr",
     "output_type": "stream",
     "text": [
      "                                                                                                                       \r"
     ]
    },
    {
     "name": "stdout",
     "output_type": "stream",
     "text": [
      "Total: 0 min 9 s. Each point: 0.042 s.\n",
      "DAT and SET file saved: DAT\\Ibias.left-12-13-a.9\n",
      "DAT and SET file saved: DAT\\Ibias.left-12-13-a.10\n"
     ]
    }
   ],
   "source": [
    "qm = QMeasure(exp_name='Ibias',sample_name='left-12-13-a',export_dat=True, mute_qclient=False)\n",
    "qm.set_parameters_to_aquire(para_list=[V_measure], parallel=True)\n",
    "qm.set_parameters_in_measurement_name(para_list=[V_measure, dmm.volt])\n",
    "\n",
    "qm.set_scan_parameter('x', para=Dummy_x, start=0, stop=1, points=101, delay=0.01)\n",
    "# qm.set_scan_parameter('y', para=None, start=None, stop=None, points=None, delay=0)\n",
    "qm.scan2d(bwd=True)"
   ]
  },
  {
   "cell_type": "code",
   "execution_count": 7,
   "id": "3fd58f58",
   "metadata": {},
   "outputs": [
    {
     "name": "stdout",
     "output_type": "stream",
     "text": [
      "Starting experimental run with id: 11. \n",
      "Starting experimental run with id: 12. \n"
     ]
    },
    {
     "name": "stderr",
     "output_type": "stream",
     "text": [
      "                                                                                                                       \r"
     ]
    },
    {
     "name": "stdout",
     "output_type": "stream",
     "text": [
      "Total: 0 min 10 s. Each point: 0.042 s.\n",
      "DAT and SET file saved: DAT\\Ibias.left-12-13-a.11\n",
      "DAT and SET file saved: DAT\\Ibias.left-12-13-a.12\n"
     ]
    }
   ],
   "source": [
    "qm = QMeasure(exp_name='Ibias',sample_name='left-12-13-a',export_dat=True, mute_qclient=False)\n",
    "qm.set_parameters_to_aquire(para_list=[V_measure], parallel=True)\n",
    "qm.set_parameters_in_measurement_name(para_list=[V_measure, dmm.volt])\n",
    "\n",
    "qm.set_scan_parameter('x', para=Vg, start=0, stop=0.1, points=101, delay=0.01)\n",
    "# qm.set_scan_parameter('y', para=None, start=None, stop=None, points=None, delay=0)\n",
    "qm.scan2d(bwd=True)"
   ]
  },
  {
   "cell_type": "markdown",
   "id": "34df450f",
   "metadata": {},
   "source": [
    "## 2d"
   ]
  },
  {
   "cell_type": "code",
   "execution_count": 8,
   "id": "b1d5574d",
   "metadata": {},
   "outputs": [
    {
     "name": "stdout",
     "output_type": "stream",
     "text": [
      "Starting experimental run with id: 13. \n",
      "Starting experimental run with id: 14. \n"
     ]
    },
    {
     "name": "stderr",
     "output_type": "stream",
     "text": [
      "                                                                                                                       "
     ]
    },
    {
     "name": "stdout",
     "output_type": "stream",
     "text": [
      "Total: 1 min 28 s. Each point: 0.044 s.\n",
      "DAT and SET file saved: DAT\\Ibias.left-12-13-a.13\n",
      "DAT and SET file saved: DAT\\Ibias.left-12-13-a.14\n"
     ]
    },
    {
     "name": "stderr",
     "output_type": "stream",
     "text": [
      "\r"
     ]
    }
   ],
   "source": [
    "qm = QMeasure(exp_name='Ibias',sample_name='left-12-13-a',export_dat=True, mute_qclient=False)\n",
    "qm.set_parameters_to_aquire(para_list=[V_measure], parallel=True)\n",
    "qm.set_parameters_in_measurement_name(para_list=[V_measure, dmm.volt])\n",
    "\n",
    "qm.set_scan_parameter('x', para=Vg, start=0, stop=0.1, points=101, delay=0.01)\n",
    "qm.set_scan_parameter('y', para=Dummy_y, start=0, stop=1, points=10, delay=0.1)\n",
    "qm.scan2d(bwd=True)"
   ]
  },
  {
   "cell_type": "markdown",
   "id": "ed2f6c17",
   "metadata": {},
   "source": [
    "## Export data manually"
   ]
  },
  {
   "cell_type": "code",
   "execution_count": 10,
   "id": "3e63cb4e",
   "metadata": {},
   "outputs": [
    {
     "name": "stdout",
     "output_type": "stream",
     "text": [
      "File \".\\DAT\\Ibias.left-12-13-a.14.dat\" already exists and has not been overwritten.\n",
      "File \".\\DAT\\Ibias.left-12-13-a.14.set\" already exists and has not been overwritten.\n",
      "DAT and SET file saved: .\\DAT\\Ibias.left-12-13-a.14\n"
     ]
    }
   ],
   "source": [
    "d2d = Db2Dat()\n",
    "exp_id = 14\n",
    "dat_folder = r'.\\DAT'\n",
    "dat_path = d2d.to_dat(db_path, exp_id, dat_folder,overwrite=False)"
   ]
  },
  {
   "cell_type": "markdown",
   "id": "18c9971e",
   "metadata": {},
   "source": [
    "# Special scans: fast1d"
   ]
  },
  {
   "cell_type": "code",
   "execution_count": 11,
   "id": "b908d98a",
   "metadata": {},
   "outputs": [],
   "source": [
    "from qc_fast1d_20240710 import *"
   ]
  },
  {
   "cell_type": "code",
   "execution_count": 19,
   "id": "c2f530c4",
   "metadata": {},
   "outputs": [],
   "source": [
    "def Ibias_to_Vdac(x):\n",
    "    y =  x/1.\n",
    "    return y\n",
    "\n",
    "# You may want to modify the output_channel and nplc\n",
    "TRG_DAC = TrigQDAC(qdac,ch=1,trg_out=1,trg_in=1,trg_internal=1,)\n",
    "TRG_DMM = TrigDMM(dmm,nplc=0.2) \n",
    "\n",
    "def reset_trig_modes():\n",
    "    '''\n",
    "    Reset trig modes of dac and dmm\n",
    "    '''\n",
    "    TRG_DAC.back_to_no_trig()\n",
    "    TRG_DMM.back_to_auto_trig()\n",
    "    TRG_DMM.dmm.NPLC()\n",
    "    \n",
    "class QMeasureFast(QMeasure):\n",
    "    '''\n",
    "    A new classs replacing _scan1d in QMeasure, for fast scan with triggers\n",
    "    '''  \n",
    "    def _scan1d(self,datasaver, list_x, y):\n",
    "        para_x = self.scan_para['x']['parameter']\n",
    "        delay_x = self.scan_para['x']['delay']\n",
    "        parameters_to_fetch = self.monitor_para['list']\n",
    "        para_y = self.scan_para['y']['parameter']\n",
    "\n",
    "        list_v = Ibias_to_Vdac(list_x)\n",
    "        # make sure that parameters_to_fetch == [Vmeasure]\n",
    "        p_fetch = parameters_to_fetch[0]\n",
    "\n",
    "        if self.counter==0:\n",
    "            # Configure the DMM buffer and trigger\n",
    "            TRG_DMM.initialize_meas(list_v,trig_delay=delay_x)\n",
    "            # This will upload the sweeping list and configure triggers\n",
    "            TRG_DAC.initialize_sweep(list_v)\n",
    "            self.counter += 1\n",
    "\n",
    "        # Send the initial trigger\n",
    "        TRG_DMM.enter_meas()\n",
    "        TRG_DAC.fire_sweep() \n",
    "\n",
    "        try:\n",
    "            d = TRG_DMM.fetch()\n",
    "        except KeyboardInterrupt:\n",
    "            raise(KeyboardInterrupt)\n",
    "\n",
    "        d = d[1:]\n",
    "        list_val = [[(p_fetch, i)] for i in d]\n",
    "\n",
    "        for x, val in zip(list_x, list_val):\n",
    "            rslt = [(para_x, x), (para_y, y)] + val\n",
    "            datasaver.add_result(*rslt)\n",
    "\n",
    "            if self.is_fwd_now or self.scan_dim==1:\n",
    "                self.qclient.add_data([i[1] for i in rslt])\n",
    "        self.qclient.update_plot()"
   ]
  },
  {
   "cell_type": "code",
   "execution_count": 22,
   "id": "d4a30263-4b86-4be6-93db-3fe96d13eda1",
   "metadata": {},
   "outputs": [
    {
     "name": "stdout",
     "output_type": "stream",
     "text": [
      "Starting experimental run with id: 25. \n",
      "Starting experimental run with id: 26. \n",
      "Total: 0 min 4 s. Each point: 0.014 s.\n",
      "DAT and SET file saved: DAT\\Ibias.left-12-13-a.25\n",
      "DAT and SET file saved: DAT\\Ibias.left-12-13-a.26\n",
      "Setting qdac back to no trigger and fixed voltage...\n",
      "Setting dmm back to auto trig mode (if failed, run it once more)...\n"
     ]
    }
   ],
   "source": [
    "qm_fast = QMeasureFast(exp_name='Ibias',sample_name='left-12-13-a',export_dat=True, mute_qclient=False)\n",
    "# Ibias_fast must be a dummy parameter, not the real Ibias parameter, only the parameter name will be used\n",
    "Ibias_fast = DummyParameter(name='Ibias_fast', unit='uA')\n",
    "\n",
    "qm_fast.set_parameters_to_aquire(para_list=[V_measure], parallel=True)\n",
    "qm_fast.set_parameters_in_measurement_name(para_list=[V_measure, dmm.volt])\n",
    "\n",
    "qm_fast.set_scan_parameter('x', para=Ibias_fast, start=0, stop=1, points=101, delay=0.01)\n",
    "# qm_fast.set_scan_parameter('y', para=Dummy_y, start=0, stop=1, points=2, delay=0)\n",
    "qm_fast.scan2d(bwd=True)\n",
    "\n",
    "reset_trig_modes()"
   ]
  },
  {
   "cell_type": "code",
   "execution_count": 23,
   "id": "a3a1287f",
   "metadata": {},
   "outputs": [
    {
     "name": "stdout",
     "output_type": "stream",
     "text": [
      "Starting experimental run with id: 27. \n",
      "Starting experimental run with id: 28. \n"
     ]
    },
    {
     "name": "stderr",
     "output_type": "stream",
     "text": [
      "                                                                                                                       \r"
     ]
    },
    {
     "name": "stdout",
     "output_type": "stream",
     "text": [
      "Total: 0 min 9 s. Each point: 0.004 s.\n",
      "DAT and SET file saved: DAT\\Ibias.left-12-13-a.27\n",
      "DAT and SET file saved: DAT\\Ibias.left-12-13-a.28\n",
      "Setting qdac back to no trigger and fixed voltage...\n",
      "Setting dmm back to auto trig mode (if failed, run it once more)...\n"
     ]
    }
   ],
   "source": [
    "qm_fast = QMeasureFast(exp_name='Ibias',sample_name='left-12-13-a',export_dat=True, mute_qclient=False)\n",
    "# Ibias_fast must be a dummy parameter, not the real Ibias parameter, only the parameter name will be used\n",
    "Ibias_fast = DummyParameter('Ibias_fast',unit='uA')\n",
    "\n",
    "qm_fast.set_parameters_to_aquire(para_list=[V_measure], parallel=True)\n",
    "qm_fast.set_parameters_in_measurement_name(para_list=[V_measure, dmm.volt])\n",
    "\n",
    "qm_fast.set_scan_parameter('x', para=Ibias_fast, start=0, stop=1, points=101, delay=0)\n",
    "qm_fast.set_scan_parameter('y', para=Dummy_y, start=0, stop=1, points=10, delay=0)\n",
    "qm_fast.scan2d(bwd=True)\n",
    "\n",
    "reset_trig_modes()"
   ]
  },
  {
   "cell_type": "markdown",
   "id": "2866ff2b",
   "metadata": {},
   "source": [
    "## Reset trigger mode"
   ]
  },
  {
   "cell_type": "code",
   "execution_count": 24,
   "id": "f9f56c6a",
   "metadata": {},
   "outputs": [
    {
     "name": "stdout",
     "output_type": "stream",
     "text": [
      "Setting qdac back to no trigger and fixed voltage...\n",
      "Setting dmm back to auto trig mode (if failed, run it once more)...\n"
     ]
    }
   ],
   "source": [
    "reset_trig_modes()"
   ]
  },
  {
   "cell_type": "code",
   "execution_count": null,
   "id": "c3b592a9",
   "metadata": {},
   "outputs": [],
   "source": []
  }
 ],
 "metadata": {
  "kernelspec": {
   "display_name": "Python 3 (ipykernel)",
   "language": "python",
   "name": "python3"
  },
  "language_info": {
   "codemirror_mode": {
    "name": "ipython",
    "version": 3
   },
   "file_extension": ".py",
   "mimetype": "text/x-python",
   "name": "python",
   "nbconvert_exporter": "python",
   "pygments_lexer": "ipython3",
   "version": "3.12.3"
  }
 },
 "nbformat": 4,
 "nbformat_minor": 5
}
