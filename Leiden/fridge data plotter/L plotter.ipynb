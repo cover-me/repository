{
 "cells": [
  {
   "cell_type": "code",
   "execution_count": null,
   "metadata": {},
   "outputs": [],
   "source": [
    "import os\n",
    "import numpy as np\n",
    "import matplotlib.pyplot as plt\n",
    "import matplotlib.dates as md\n",
    "from matplotlib.ticker import EngFormatter,MaxNLocator\n",
    "import datetime\n",
    "#import seaborn as sns\n",
    "#sns.set()"
   ]
  },
  {
   "cell_type": "markdown",
   "metadata": {},
   "source": [
    "# Get the filepath list"
   ]
  },
  {
   "cell_type": "code",
   "execution_count": null,
   "metadata": {},
   "outputs": [],
   "source": [
    "# time range\n",
    "_ = md.date2num(datetime.datetime.now())\n",
    "xlimit = [_-2,_]\n",
    "\n",
    "# Bridge for still capacitance\n",
    "dirBridge = r'C:\\Impedance Bridge\\Data'\n",
    "pathListB = []\n",
    "for i in sorted(os.listdir(dirBridge))[::-1]:\n",
    "    _ = md.datestr2num(i.split(' ')[0])#start time of the file\n",
    "    if _<xlimit[1]:\n",
    "        print(i)\n",
    "        pathListB.append(os.path.join(dirBridge,i))\n",
    "        if _<xlimit[0]:\n",
    "            break\n",
    "            \n",
    "# temperatures and pressures\n",
    "dirAVS = r'C:\\avs-47'\n",
    "avslist = os.listdir(dirAVS)\n",
    "pathListT = []\n",
    "for i in sorted([x for x in avslist if 'LogAVS' in x and x!='LogAVS__zBridge_2014-09-04-11-39-58_1.dat'])[::-1]:\n",
    "    _ = i.replace('.dat','').split('_')[-1]#something like '2014-09-04-11-39-58'\n",
    "    _ = '%s-%s-%s %s:%s:%s'%tuple(_.split('-'))\n",
    "    _ = md.datestr2num(_)#start time of the file\n",
    "    if _<xlimit[1]:\n",
    "        print(i)\n",
    "        pathListT.append(os.path.join(dirAVS,i))\n",
    "        if _<xlimit[0]:\n",
    "            break\n",
    "            \n",
    "pathListP = []\n",
    "for i in sorted([x for x in avslist if 'logFP' in x])[::-1]:\n",
    "    _ = i.replace('.dat','').split('_')[-1]#something like '2014-09-04-11-39-58'\n",
    "    _ = '%s-%s-%s %s:%s:%s'%tuple(_.split('-'))\n",
    "    _ = md.datestr2num(_)#start time of the file\n",
    "    if _<xlimit[1]:\n",
    "        print(i)\n",
    "        pathListP.append(os.path.join(dirAVS,i))\n",
    "        if _<xlimit[0]:\n",
    "            break\n"
   ]
  },
  {
   "cell_type": "markdown",
   "metadata": {},
   "source": [
    "# Get the capacitance and show the average over the last 30 pts"
   ]
  },
  {
   "cell_type": "code",
   "execution_count": null,
   "metadata": {},
   "outputs": [],
   "source": [
    "_ = ['Time','Impedance','Calculated value','Frequency','Excitation','Chno','Measure type','Imp type']\n",
    "headBridge = dict(zip(_,range(len(_))))\n",
    "dBridge = None\n",
    "for i in pathListB:\n",
    "    _ = np.loadtxt(i,delimiter='\\t',converters={0:lambda s: md.datestr2num(s.decode()),7:lambda s: int(s[0])})\n",
    "    dBridge = _ if dBridge is None else np.append(_,dBridge,axis=0)\n",
    "_ = -30\n",
    "print('Average from: %s to %s, dt = %s'%(md.num2date(dBridge[_,0]),md.num2date(dBridge[-1,0]),md.num2date(dBridge[-1,0])-md.num2date(dBridge[_,0])))\n",
    "print('mean: %s, std: %s'%(np.mean(dBridge[_:,1])*1e12,np.std(dBridge[_:,1]*1e12)))"
   ]
  },
  {
   "cell_type": "markdown",
   "metadata": {},
   "source": [
    "# Get the temperatures and the pressures"
   ]
  },
  {
   "cell_type": "code",
   "execution_count": null,
   "metadata": {},
   "outputs": [],
   "source": [
    "_ = ['Date', 'P1', 'P2', 'P3', 'P4', 'P5', 'P6', 'P7', 'Flow', 'MG0', 'MG1', 'MG2', 'MG3', 'MG4', 'MG5', 'PT on', 'W_in', 'W_out', 'He', 'Oil', 'P_low', 'P_high', 'PT current', 'State0', 'State1', 'State2']\n",
    "headFP = dict(zip(_,range(len(_))))\n",
    "_ = ['Date1', 'Date2', 'R0', 'R1', 'R2', 'R3', 'R4', 'R5', 'R6', 'R7', 'R8', 'R9', 'T0', 'T1', 'T2', 'T3', 'T4', 'T5', 'T6', 'T7', 'T8', 'T9', 'I0', 'I1', 'I2', 'I3']\n",
    "headTC = dict(zip(_,range(len(_))))\n",
    "dTC = None\n",
    "for i in pathListT:\n",
    "    try:\n",
    "        _ = np.loadtxt(i,delimiter='\\t',converters = {0:lambda s: md.datestr2num(s.decode())})#sometimes the head is missing\n",
    "    except:\n",
    "        _ = np.loadtxt(i,delimiter='\\t',converters = {0:lambda s: md.datestr2num(s.decode())},skiprows=4)\n",
    "    dTC = _ if dTC is None else np.append(_,dTC,axis=0)\n",
    "dFP = None\n",
    "for i in pathListP:\n",
    "    _ = np.loadtxt(i,delimiter='\\t',converters = {0:lambda s: md.datestr2num(s.decode())})\n",
    "    dFP = _ if dFP is None else np.append(_,dFP,axis=0)"
   ]
  },
  {
   "cell_type": "markdown",
   "metadata": {},
   "source": [
    "# Plot the data"
   ]
  },
  {
   "cell_type": "code",
   "execution_count": null,
   "metadata": {},
   "outputs": [],
   "source": [
    "def getXYL(key2,label):\n",
    "    key = key2.split('_')[-1] if key2.startswith('MA') else key2        \n",
    "    if key in headFP:\n",
    "        x = dFP[:,0]\n",
    "        y = dFP[:,headFP[key]]\n",
    "    elif key in headTC:\n",
    "        x = dTC[:,0]\n",
    "        y = dTC[:,headTC[key]]/1000.\n",
    "    else:\n",
    "        x = dBridge[:,0]\n",
    "        y = dBridge[:,headBridge[key]]\n",
    "    if key2.startswith('MA'):\n",
    "        _ = int(key2.split('_')[0][2:])\n",
    "        x = x[_:-_]\n",
    "        _ = _ * 2 + 1\n",
    "        y = np.convolve(y,np.ones(_)/_,'valid')\n",
    "        label = 'smooth\\n%s pts'%(_)\n",
    "\n",
    "    return x,y,label"
   ]
  },
  {
   "cell_type": "code",
   "execution_count": null,
   "metadata": {
    "scrolled": false
   },
   "outputs": [],
   "source": [
    "cv = [{'Impedance':'Cstill','MA15_Impedance':'Cstill'},\n",
    "      {'T0':'3K','T1':'still','T2':'cold','T5':'magnet','limit':(0,5)},\n",
    "      {'P5':'P5\\n(mbar)','P6':'He4','P7':'He3','limit':(-20,1420),'ticks':[0,200,400,600,800,1000,1200,1400]},\n",
    "     ]#curves\n",
    "cv2 = [{},\n",
    "       {'T3':'MC','limit':(0.042,0.045)},\n",
    "       {'Flow':'Flow','limit':(0,100)}\n",
    "      ]\n",
    "fig, ax = plt.subplots(len(cv),1,figsize=(10, 8),sharex=True)\n",
    "fig.subplots_adjust(hspace=0.05)\n",
    "ax2 = [i.twinx() for i in ax]\n",
    "\n",
    "cv = [*cv, *cv2]\n",
    "ax = [*ax, *ax2]\n",
    "\n",
    "xfmt = md.DateFormatter('%m-%d %H:%M')\n",
    "yfmt = EngFormatter()\n",
    "\n",
    "for i,j,k in zip(cv,ax,range(len(cv))):\n",
    "    for ii in i:\n",
    "        if ii == 'limit':\n",
    "            j.set_ylim(*i[ii])\n",
    "        elif ii == 'ticks':\n",
    "            j.set_yticks(i[ii])\n",
    "        else:\n",
    "            x,y,lbl = getXYL(ii,i[ii])\n",
    "            if k>=len(cv)/2:\n",
    "                for iii in range(len(cv[k-int(len(cv)/2)])):\n",
    "                    j._get_lines.get_next_color()\n",
    "            j.plot(x,y,label=lbl)\n",
    "    if i:\n",
    "        j.yaxis.set_major_formatter(yfmt)\n",
    "        if k<len(cv)/2:\n",
    "            j.legend(bbox_to_anchor=(1.25, 1),loc='upper right')\n",
    "        else:\n",
    "            j.legend(bbox_to_anchor=(1.25, 0.5),loc='upper right')\n",
    "        j.xaxis.set_major_formatter(xfmt)\n",
    "        j.xaxis.set_major_locator(md.HourLocator(interval=4))\n",
    "        plt.sca(j)\n",
    "        plt.xticks(rotation=25)\n",
    "    else:\n",
    "        j.set_yticks([])\n",
    "\n",
    "plt.subplots_adjust(bottom=0.1,right=0.8,left=0.1)\n",
    "\n",
    "#ax3.yaxis.set_major_formatter(yfmt)\n",
    "#ax3.legend(bbox_to_anchor=(1.25, 0.5),loc='upper right')\n",
    "#ax3.tick_params(which='both',axis='y', colors='red')\n",
    "#ax3.set_xlim(*xlimit)\n",
    "\n",
    "j.set_xlim(*xlimit)\n",
    "j.set_xlabel('time')\n",
    "plt.savefig(datetime.datetime.now().strftime(\"%Y%m%d_%H.png\"),dpi=300)"
   ]
  },
  {
   "cell_type": "code",
   "execution_count": null,
   "metadata": {},
   "outputs": [],
   "source": [
    "#plt.savefig('a.png')"
   ]
  }
 ],
 "metadata": {
  "kernelspec": {
   "display_name": "Python 3",
   "language": "python",
   "name": "python3"
  },
  "language_info": {
   "codemirror_mode": {
    "name": "ipython",
    "version": 3
   },
   "file_extension": ".py",
   "mimetype": "text/x-python",
   "name": "python",
   "nbconvert_exporter": "python",
   "pygments_lexer": "ipython3",
   "version": "3.7.4"
  }
 },
 "nbformat": 4,
 "nbformat_minor": 4
}
