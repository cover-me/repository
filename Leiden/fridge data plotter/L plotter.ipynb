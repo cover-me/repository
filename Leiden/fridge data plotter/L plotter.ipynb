{
 "cells": [
  {
   "cell_type": "markdown",
   "metadata": {},
   "source": [
    "# Plot data with given time range and names"
   ]
  },
  {
   "cell_type": "code",
   "execution_count": 129,
   "metadata": {},
   "outputs": [],
   "source": [
    "import os\n",
    "import numpy as np\n",
    "import matplotlib.pyplot as plt\n",
    "import matplotlib.dates as md\n",
    "from matplotlib.ticker import EngFormatter,MaxNLocator\n",
    "import datetime\n",
    "#import seaborn as sns\n",
    "#sns.set()"
   ]
  },
  {
   "cell_type": "markdown",
   "metadata": {},
   "source": [
    "# Set the time range"
   ]
  },
  {
   "cell_type": "code",
   "execution_count": 149,
   "metadata": {},
   "outputs": [],
   "source": [
    "# time range in unit of day\n",
    "_ = md.date2num(datetime.datetime.now())\n",
    "xlimit = [_-1.1,_]\n",
    "LOAD_CAP = False\n",
    "LOAD_TEMP = True\n",
    "LOAD_PRESSURE = True"
   ]
  },
  {
   "cell_type": "markdown",
   "metadata": {},
   "source": [
    "# Get file list"
   ]
  },
  {
   "cell_type": "code",
   "execution_count": 150,
   "metadata": {
    "scrolled": false
   },
   "outputs": [
    {
     "name": "stdout",
     "output_type": "stream",
     "text": [
      "2020-12-31 Data set A.txt\n",
      "2020-12-17 Data set A.txt\n",
      "LogAVS___2020-12-27-17-41-55.dat\n",
      "logFP___2020-12-27-17-41-53.dat\n"
     ]
    }
   ],
   "source": [
    "# Bridge for still capacitance\n",
    "dirBridge = r'C:\\Impedance Bridge\\Data'\n",
    "pathListB = []\n",
    "for i in sorted(os.listdir(dirBridge))[::-1]:\n",
    "    _ = md.datestr2num(i.split(' ')[0])#start time of the file\n",
    "    if _<xlimit[1]:\n",
    "        print(i)\n",
    "        pathListB.append(os.path.join(dirBridge,i))\n",
    "        if _<xlimit[0]:\n",
    "            break\n",
    "            \n",
    "# temperatures and pressures\n",
    "dirAVS = r'C:\\avs-47'\n",
    "avslist = os.listdir(dirAVS)\n",
    "pathListT = []\n",
    "for i in sorted([x for x in avslist if 'LogAVS' in x and x!='LogAVS__zBridge_2014-09-04-11-39-58_1.dat'])[::-1]:\n",
    "    _ = i.replace('.dat','').split('_')[-1]#something like '2014-09-04-11-39-58'\n",
    "    _ = '%s-%s-%s %s:%s:%s'%tuple(_.split('-'))\n",
    "    _ = md.datestr2num(_)#start time of the file\n",
    "    if _<xlimit[1]:\n",
    "        print(i)\n",
    "        pathListT.append(os.path.join(dirAVS,i))\n",
    "        if _<xlimit[0]:\n",
    "            break\n",
    "            \n",
    "pathListP = []\n",
    "for i in sorted([x for x in avslist if 'logFP' in x])[::-1]:\n",
    "    _ = i.replace('.dat','').split('_')[-1]#something like '2014-09-04-11-39-58'\n",
    "    _ = '%s-%s-%s %s:%s:%s'%tuple(_.split('-'))\n",
    "    _ = md.datestr2num(_)#start time of the file\n",
    "    if _<xlimit[1]:\n",
    "        print(i)\n",
    "        pathListP.append(os.path.join(dirAVS,i))\n",
    "        if _<xlimit[0]:\n",
    "            break\n"
   ]
  },
  {
   "cell_type": "markdown",
   "metadata": {},
   "source": [
    "# Get the capacitance and show the average over the last 30 pts"
   ]
  },
  {
   "cell_type": "code",
   "execution_count": 151,
   "metadata": {},
   "outputs": [],
   "source": [
    "_ = ['Time','Impedance','Calculated value','Frequency','Excitation','Chno','Measure type','Imp type']\n",
    "headBridge = dict(zip(_,range(len(_))))\n",
    "dBridge = None\n",
    "if LOAD_CAP:\n",
    "    for i in pathListB:\n",
    "        _ = np.loadtxt(i,delimiter='\\t',converters={0:lambda s: md.datestr2num(s.decode()),7:lambda s: int(s[0])})\n",
    "        dBridge = _ if dBridge is None else np.append(_,dBridge,axis=0)\n",
    "    _ = -30\n",
    "    print('Average from: %s to %s, dt = %s'%(md.num2date(dBridge[_,0]),md.num2date(dBridge[-1,0]),md.num2date(dBridge[-1,0])-md.num2date(dBridge[_,0])))\n",
    "    print('mean: %s, std: %s'%(np.mean(dBridge[_:,1])*1e12,np.std(dBridge[_:,1]*1e12)))"
   ]
  },
  {
   "cell_type": "markdown",
   "metadata": {},
   "source": [
    "# Get the temperatures and the pressures"
   ]
  },
  {
   "cell_type": "code",
   "execution_count": 152,
   "metadata": {},
   "outputs": [
    {
     "name": "stdout",
     "output_type": "stream",
     "text": [
      "Failed to load C:\\avs-47\\logFP___2020-12-27-17-41-53.dat 347.209 k\n"
     ]
    }
   ],
   "source": [
    "_ = ['Date', 'P1', 'P2', 'P3', 'P4', 'P5', 'P6', 'P7', 'Flow', 'MG0', 'MG1', 'MG2', 'MG3', 'MG4', 'MG5', 'PT on', 'W_in', 'W_out', 'He', 'Oil', 'P_low', 'P_high', 'PT current', 'State0', 'State1', 'State2']\n",
    "headFP = dict(zip(_,range(len(_))))\n",
    "_ = ['Date1', 'Date2', 'R0', 'R1', 'R2', 'R3', 'R4', 'R5', 'R6', 'R7', 'R8', 'R9', 'T0', 'T1', 'T2', 'T3', 'T4', 'T5', 'T6', 'T7', 'T8', 'T9', 'I0', 'I1', 'I2', 'I3']\n",
    "headTC = dict(zip(_,range(len(_))))\n",
    "dTC = None\n",
    "if LOAD_TEMP:\n",
    "    for i in pathListT:\n",
    "        try:\n",
    "            _ = np.loadtxt(i,delimiter='\\t',converters = {0:lambda s: md.datestr2num(s.decode())})#sometimes the head is missing\n",
    "        except:\n",
    "            try:\n",
    "                _ = np.loadtxt(i,delimiter='\\t',converters = {0:lambda s: md.datestr2num(s.decode())},skiprows=4)\n",
    "            except:\n",
    "                print('Failed to load', i, os.stat(i).st_size/1000., 'k')\n",
    "        dTC = _ if dTC is None else np.append(_,dTC,axis=0)\n",
    "dFP = None\n",
    "if LOAD_PRESSURE:\n",
    "    for i in pathListP:\n",
    "        try:\n",
    "            _ = np.loadtxt(i,delimiter='\\t',converters = {0:lambda s: md.datestr2num(s.decode())})\n",
    "        except:\n",
    "            try:\n",
    "                _ = np.loadtxt(i,delimiter='\\t',converters = {0:lambda s: md.datestr2num(s.decode())},skiprows=2)\n",
    "            except:\n",
    "                print('Failed to load', i, os.stat(i).st_size/1000., 'k')\n",
    "        if len(np.shape(_))>1 and np.shape(_)[1] == 26:\n",
    "            dFP = _ if dFP is None else np.append(_,dFP,axis=0)"
   ]
  },
  {
   "cell_type": "markdown",
   "metadata": {},
   "source": [
    "# set plotting parameters and plot"
   ]
  },
  {
   "cell_type": "code",
   "execution_count": 153,
   "metadata": {},
   "outputs": [],
   "source": [
    "def plot_curve(ax,curve_name):\n",
    "    caps = {'Impedance':'Cstill'}\n",
    "    temps = {'T0':'3K','T1':'still','T2':'cold','T3':'MC','T5':'magnet'}\n",
    "    pressures = {'Flow':'flow','P6':'He4','P7':'He3','P5':'P5','MG5':'still\\n(mbar)','MG4':'IVC\\n(mbar)'}\n",
    "    if curve_name in caps:\n",
    "        x = dBridge[:,headBridge['Time']]\n",
    "        __ = 15\n",
    "        _ = __*2 + 1#parameter for averaging\n",
    "        lns = ax.plot(x,dBridge[:,headBridge[i]],label=caps[curve_name])\n",
    "        lns = ax.plot(x[__:-__],np.convolve(dBridge[:,headBridge[i]],np.ones(_)/_,'valid'),label='smooth\\n%s pts'%(_))\n",
    "    elif curve_name in temps:\n",
    "        x = dTC[:,headTC['Date1']]\n",
    "        y = dTC[:,headTC[curve_name]]/1000.\n",
    "        ax.plot(x,y,label=temps[curve_name])\n",
    "    elif curve_name in pressures:\n",
    "        x = dFP[:,headFP['Date']]\n",
    "        y = dFP[:,headFP[curve_name]]\n",
    "        ax.plot(x,y,'-',label=pressures[curve_name])"
   ]
  },
  {
   "cell_type": "code",
   "execution_count": 163,
   "metadata": {},
   "outputs": [
    {
     "data": {
      "image/png": "[encoded data removed]",
      "text/plain": [
       "<Figure size 1080x576 with 4 Axes>"
      ]
     },
     "metadata": {
      "needs_background": "light"
     },
     "output_type": "display_data"
    }
   ],
   "source": [
    "#{'Impedance':'Cstill'}\n",
    "#{'T0':'3K','T1':'still','T2':'cold','T3':'MC','T5':'magnet'}\n",
    "#{'Flow':'flow','P6':'He4','P7':'He3','P5':'P5'}\n",
    "#{'P5':'P5'}#{'MG5':'still\\n(mbar)','MG4':'IVC\\n(mbar)'},\n",
    "fig, axes = plt.subplots(4,1,figsize=(15, 8),sharex=True)\n",
    "fig.subplots_adjust(hspace=0.05)\n",
    "\n",
    "plot_curve(axes[0],'T0')\n",
    "# axes[0].set_ylim(500,700)\n",
    "plot_curve(axes[1],'T1')\n",
    "axes[1].set_ylim(0,100)\n",
    "plot_curve(axes[2],'T2')\n",
    "plot_curve(axes[3],'T3')\n",
    "# axes[3].set_ylim(0,0.3)\n",
    "\n",
    "plt.subplots_adjust(bottom=0.1,right=0.8,left=0.1)\n",
    "\n",
    "hour_interval = abs(xlimit[-1]-xlimit[0])/10\n",
    "hour_interval = int(hour_interval)*24 if hour_interval>1 else int(hour_interval*24)\n",
    "xfmt = md.DateFormatter('%m-%d %H:%M')\n",
    "yfmt = EngFormatter()\n",
    "for i in axes:\n",
    "    i.legend(bbox_to_anchor=(1, 1),loc='upper left')\n",
    "    i.yaxis.set_major_formatter(yfmt)\n",
    "i.xaxis.set_major_formatter(xfmt)\n",
    "i.xaxis.set_major_locator(md.HourLocator(interval=hour_interval))\n",
    "plt.sca(i)\n",
    "plt.xticks(rotation=25)\n",
    "i.set_xlim(xlimit[0]+0.05,xlimit[1])\n",
    "i.set_xlabel('time')\n",
    "plt.savefig(datetime.datetime.now().strftime(\"%Y%m%d_%H.png\"),dpi=300)\n",
    "plt.show()"
   ]
  },
  {
   "cell_type": "code",
   "execution_count": null,
   "metadata": {
    "scrolled": false
   },
   "outputs": [],
   "source": [
    "# # interval of x axis, in hours\n",
    "# hour_interval = abs(xlimit[-1]-xlimit[0])/10\n",
    "# hour_interval = int(hour_interval)*24 if hour_interval>1 else int(hour_interval*24)\n",
    "# # panel 0 always plot capacitance\n",
    "# cv0={}#'Impedance':'Cstill'\n",
    "# # panel 1\n",
    "# cv1={}#{'T0':'3K','T1':'still','T2':'cold','T3':'MC','T5':'magnet'}\n",
    "# # panel 2 has two axes\n",
    "# cv2={'P5':'P5'}#{'Flow':'flow','P6':'He4','P7':'He3','P5':'P5'}\n",
    "# cv3={}#{'P5':'P5'}#{'MG5':'still\\n(mbar)','MG4':'IVC\\n(mbar)'},\n",
    "# # axes limits are modified below\n",
    "\n",
    "# fig, arrAx = plt.subplots(3,1,figsize=(10, 8),sharex=True)\n",
    "# fig.subplots_adjust(hspace=0.05)\n",
    "\n",
    "# if dBridge is not None:\n",
    "#     x = dBridge[:,headBridge['Time']]\n",
    "#     __ = 15\n",
    "#     _ = __*2 + 1#parameter for averaging\n",
    "\n",
    "# # ax0, still capacitance\n",
    "# for i in cv0:\n",
    "#     lns = arrAx[0].plot(x,dBridge[:,headBridge[i]],label=cv0[i])\n",
    "#     #arrAx[0].plot(dBridge2[:,headBridge['Time']],dBridge2[:,headBridge[i]],color=lns[0].get_color())\n",
    "#     lns = arrAx[0].plot(x[__:-__],np.convolve(dBridge[:,headBridge[i]],np.ones(_)/_,'valid'),label='smooth\\n%s pts'%(_))\n",
    "#     #arrAx[0].plot(dBridge2[:,headBridge['Time']][__:-__],np.convolve(dBridge2[:,headBridge[i]],np.ones(_)/_,'valid'),color=lns[0].get_color())\n",
    "\n",
    "# # ax1, T\n",
    "# x = dTC[:,headTC['Date1']]\n",
    "# for i in cv1:\n",
    "#     arrAx[1].plot(x,dTC[:,headTC[i]]/1000.,label=cv1[i])\n",
    "# arrAx[1].set_ylim(0,5)\n",
    "\n",
    "# # ax2, P \n",
    "# x = dFP[:,headFP['Date']]\n",
    "# for i in cv2:\n",
    "#     arrAx[2].plot(x,dFP[:,headFP[i]],'-',label=cv2[i])\n",
    "# arrAx[2].set_ylim(500,1000)\n",
    "# #arrAx[2].set_yticks([0,200,400,600,800,1000,1200,1400])\n",
    "# ax3 = arrAx[2].twinx()\n",
    "# for i in cv3:\n",
    "#     #ax3.semilogy(x,dFP[:,headFP[i]],label=cv3[i],color='r')\n",
    "#     ax3.plot(x,dFP[:,headFP[i]],'-r',label=cv3[i])\n",
    "# ax3.set_ylim(0.00049,0.00051)\n",
    "# #ax3.set_ylim(1300,1500)\n",
    "\n",
    "# plt.subplots_adjust(bottom=0.1,right=0.8,left=0.1)\n",
    "\n",
    "# xfmt = md.DateFormatter('%y-%m-%d %H:%M')\n",
    "# yfmt = EngFormatter()\n",
    "# for i in arrAx:\n",
    "#     i.xaxis.set_major_formatter(xfmt)\n",
    "#     i.xaxis.set_major_locator(md.HourLocator(interval=hour_interval))\n",
    "#     i.yaxis.set_major_formatter(yfmt)\n",
    "#     i.legend(bbox_to_anchor=(1.25, 1),loc='upper right')\n",
    "#     plt.sca(i)\n",
    "#     plt.xticks(rotation=25)\n",
    "# ax3.yaxis.set_major_formatter(yfmt)\n",
    "# ax3.legend(bbox_to_anchor=(1.25, 0.5),loc='upper right')\n",
    "# ax3.tick_params(which='both',axis='y', colors='red')\n",
    "# ax3.set_xlim(*xlimit)\n",
    "\n",
    "# i.set_xlim(*xlimit)\n",
    "# i.set_xlabel('time')\n",
    "# plt.savefig(datetime.datetime.now().strftime(\"%Y%m%d_%H.png\"),dpi=300)\n",
    "# plt.show()"
   ]
  },
  {
   "cell_type": "code",
   "execution_count": null,
   "metadata": {},
   "outputs": [],
   "source": []
  },
  {
   "cell_type": "code",
   "execution_count": null,
   "metadata": {},
   "outputs": [],
   "source": []
  }
 ],
 "metadata": {
  "kernelspec": {
   "display_name": "Python 3",
   "language": "python",
   "name": "python3"
  },
  "language_info": {
   "codemirror_mode": {
    "name": "ipython",
    "version": 3
   },
   "file_extension": ".py",
   "mimetype": "text/x-python",
   "name": "python",
   "nbconvert_exporter": "python",
   "pygments_lexer": "ipython3",
   "version": "3.7.4"
  }
 },
 "nbformat": 4,
 "nbformat_minor": 4
}
